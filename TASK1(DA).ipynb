{
 "cells": [
  {
   "cell_type": "code",
   "execution_count": null,
   "id": "b758e773-b712-40e7-9331-22643c508b62",
   "metadata": {},
   "outputs": [],
   "source": [
    "# Write a Python program to create a list, a dictionary, and a set. Perform basic operations like adding, removing, and modifying elements."
   ]
  },
  {
   "cell_type": "code",
   "execution_count": 405,
   "id": "173c47c3-9a21-4ef8-9b9d-f439bc4aa60e",
   "metadata": {},
   "outputs": [
    {
     "name": "stdout",
     "output_type": "stream",
     "text": [
      "pop the name  ['PIYUSH', 'TANYA', 'KANAK', 'KHUSHI', 'KABIR']\n",
      "remove the TANYA name ['PIYUSH', 'KANAK', 'KHUSHI', 'KABIR']\n",
      "sort the name in alphabetical ['KABIR', 'KANAK', 'KHUSHI', 'PIYUSH']\n",
      "add the name ['KABIR', 'KANAK', 'KHUSHI', 'PIYUSH', 'chetan']\n",
      "clear the list  []\n",
      "extand the perticular name ['r', 'a', 'h', 'u', 'l']\n",
      "5\n",
      "<class 'list'>\n"
     ]
    }
   ],
   "source": [
    "# list string\n",
    "NAME=['PIYUSH','AYUSH','TANYA','KANAK','KHUSHI','KABIR']\n",
    "NAME.pop(1)\n",
    "print(\"pop the name \",NAME)\n",
    "\n",
    "NAME.remove('TANYA')\n",
    "print(\"remove the TANYA name\",NAME)\n",
    "\n",
    "NAME.sort()\n",
    "print(\"sort the name in alphabetical\",NAME)\n",
    "\n",
    "NAME.append('chetan')\n",
    "print(\"add the name\",NAME)\n",
    "\n",
    "NAME.clear()\n",
    "print(\"clear the list \",NAME)\n",
    "\n",
    "NAME.extend('rahul')\n",
    "print(\"extand the perticular name\",NAME)\n",
    "\n",
    "\n",
    "print(len(NAME))\n",
    "print(type(NAME))\n",
    "\n"
   ]
  },
  {
   "cell_type": "code",
   "execution_count": 575,
   "id": "88fe9954-2855-458b-9cc2-31db238eecb0",
   "metadata": {},
   "outputs": [
    {
     "name": "stdout",
     "output_type": "stream",
     "text": [
      "maximun value= 98\n",
      "minimum value= 1\n",
      "add the number= [1, 6, 57, 88, 43, 98, 56, 6, 76, 7, 6, 7, 11]\n",
      "length list= 13\n",
      "pop the element= [1, 57, 88, 43, 98, 56, 6, 76, 7, 6, 7, 11]\n",
      "sort the number= [1, 6, 6, 7, 7, 11, 43, 56, 57, 76, 88, 98]\n",
      "check the type= <class 'list'>\n"
     ]
    }
   ],
   "source": [
    "# list number\n",
    "roll=[1,6,57,88,43,98,56,6,76,7,6,7]\n",
    "\n",
    "print(\"maximun value=\",max(roll))\n",
    "print(\"minimum value=\",min(roll))\n",
    "roll.append(11)\n",
    "print(\"add the number=\",roll)\n",
    "print(\"length list=\",len(roll))\n",
    "roll.pop(1)\n",
    "print(\"pop the element=\",roll)\n",
    "roll.sort()\n",
    "print(\"sort the number=\",roll)\n",
    "print(\"check the type=\",type(roll))\n"
   ]
  },
  {
   "cell_type": "code",
   "execution_count": 595,
   "id": "7ce1c7b5-1065-4032-8518-66829a921564",
   "metadata": {},
   "outputs": [
    {
     "name": "stdout",
     "output_type": "stream",
     "text": [
      "print dictionary== {'name': 'piyush Arora', 'age': 22, 'internship-Company': 'Main flow services and technology Pvt.Ltd', 'Duration': '4weaks'}\n",
      "\n",
      "\n",
      "check the type == <class 'dict'>\n",
      "\n",
      "\n",
      "dictionary length== 4\n",
      "\n",
      "\n",
      "dictionary show particular columns== piyush Arora 4weaks\n",
      "\n",
      "\n",
      "dictionary keys== dict_keys(['name', 'age', 'internship-Company', 'Duration'])\n",
      "\n",
      "\n",
      "dictionary values== dict_values(['piyush Arora', 22, 'Main flow services and technology Pvt.Ltd', '4weaks'])\n",
      "\n",
      "\n",
      "dictionary items== dict_items([('name', 'piyush Arora'), ('age', 22), ('internship-Company', 'Main flow services and technology Pvt.Ltd'), ('Duration', '4weaks')])\n",
      "\n",
      "\n",
      "update the dictionary  {'name': 'piyush Arora', 'age': 22, 'internship-Company': 'Main flow services and technology Pvt.Ltd', 'Duration': '8weaks'}\n",
      "\n",
      "\n",
      "del the perticular column {'name': 'piyush Arora', 'internship-Company': 'Main flow services and technology Pvt.Ltd', 'Duration': '8weaks'}\n",
      "\n",
      "\n",
      "clear dictionary {}\n"
     ]
    }
   ],
   "source": [
    "# dictinory\n",
    "# distiory syntax is {}\n",
    "dict_1={\"name\":\"piyush Arora\",\n",
    "        \"age\":22,\n",
    "        \"internship-Company\":\"Main flow services and technology Pvt.Ltd\" ,\n",
    "        \"Duration\":\"4weaks\"}\n",
    "\n",
    "print(\"print dictionary==\",dict_1)\n",
    "print(\"\\n\")\n",
    "print(\"check the type ==\",type(dict_1))\n",
    "print(\"\\n\")\n",
    "print(\"dictionary length==\",len(dict_1))\n",
    "print(\"\\n\")\n",
    "print(\"dictionary show particular columns==\",dict_1[\"name\"],dict_1[\"Duration\"])\n",
    "print(\"\\n\")\n",
    "a=dict_1.keys()\n",
    "print(\"dictionary keys==\",a)\n",
    "print(\"\\n\")\n",
    "b=dict_1.values()\n",
    "print(\"dictionary values==\",b)\n",
    "print(\"\\n\")\n",
    "c=dict_1.items()\n",
    "print(\"dictionary items==\",c)\n",
    "print(\"\\n\")\n",
    "dict_1.update({\"Duration\":\"8weaks\"})\n",
    "print(\"update the dictionary \",dict_1)\n",
    "print(\"\\n\")\n",
    "del dict_1[\"age\"]\n",
    "print(\"del the perticular column\",dict_1)\n",
    "print(\"\\n\")\n",
    "dict_1.clear()\n",
    "print(\"clear dictionary\",dict_1)"
   ]
  },
  {
   "cell_type": "code",
   "execution_count": 609,
   "id": "a78b3a26-1ede-4b09-96fe-c3dc33ccb9db",
   "metadata": {},
   "outputs": [
    {
     "name": "stdout",
     "output_type": "stream",
     "text": [
      "{'Kartik', 'KANAK', 'PIYUSH', 'TANYA', 'KHUSHI', 'AYUSH'}\n",
      "check type= <class 'set'>\n",
      "check length= 6\n",
      "remove name= {'Kartik', 'KANAK', 'PIYUSH', 'TANYA', 'KHUSHI'}\n",
      "add the name {'Kartik', 'KANAK', 'RAHUL', 'PIYUSH', 'TANYA', 'KHUSHI'}\n",
      "{'KANAK', 'RAHUL', 'PIYUSH', 'TANYA', 'KHUSHI'}\n"
     ]
    }
   ],
   "source": [
    "#set strings\n",
    "set1={'PIYUSH','AYUSH','TANYA','KANAK','KHUSHI','Kartik'}\n",
    "print(set1)\n",
    "print(\"check type=\",type(set1))\n",
    "print(\"check length=\",len(set1))\n",
    "set1.remove(\"AYUSH\")\n",
    "print(\"remove name=\",set1)\n",
    "set1.add(\"RAHUL\")\n",
    "print(\"add the name\",set1)\n",
    "set1.pop()\n",
    "print(set1)"
   ]
  },
  {
   "cell_type": "code",
   "execution_count": 593,
   "id": "ce39de98-2604-4a45-8195-e88531351634",
   "metadata": {},
   "outputs": [
    {
     "name": "stdout",
     "output_type": "stream",
     "text": [
      "clear the set set()\n"
     ]
    }
   ],
   "source": [
    "set1.clear()\n",
    "print(\"clear the set\",set1)"
   ]
  },
  {
   "cell_type": "code",
   "execution_count": 591,
   "id": "783f119e-942f-4278-98ec-ef058ffc4ea6",
   "metadata": {},
   "outputs": [
    {
     "name": "stdout",
     "output_type": "stream",
     "text": [
      "{1, 5, 6, 7, 9, 43, 3340, 4432, 82, 23}\n",
      "check type= <class 'set'>\n",
      "check length 10\n",
      "min value 1\n",
      "max value 4432\n",
      "add the number {1, 5, 6, 7, 9, 43, 3340, 4432, 82, 23}\n"
     ]
    }
   ],
   "source": [
    "# set in number\n",
    "snum={1,4432,23,43,5,6,7,82,9,3340}\n",
    "print(snum)\n",
    "print(\"check type=\",type(snum))\n",
    "print(\"check length\",len(snum))\n",
    "print(\"min value\",min(snum))\n",
    "print(\"max value\",max(snum)) \n",
    "snum.add(5)\n",
    "print(\"add the number\",snum)"
   ]
  }
 ],
 "metadata": {
  "kernelspec": {
   "display_name": "Python 3 (ipykernel)",
   "language": "python",
   "name": "python3"
  },
  "language_info": {
   "codemirror_mode": {
    "name": "ipython",
    "version": 3
   },
   "file_extension": ".py",
   "mimetype": "text/x-python",
   "name": "python",
   "nbconvert_exporter": "python",
   "pygments_lexer": "ipython3",
   "version": "3.12.4"
  }
 },
 "nbformat": 4,
 "nbformat_minor": 5
}
